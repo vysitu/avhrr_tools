{
 "cells": [
  {
   "cell_type": "code",
   "execution_count": 9,
   "id": "f828120c-f107-4eff-81dc-b11b5053a231",
   "metadata": {},
   "outputs": [],
   "source": [
    "import os, sys\n",
    "import requests\n",
    "from bs4 import BeautifulSoup as bs"
   ]
  },
  {
   "cell_type": "markdown",
   "id": "6ca3b819-5769-475e-a86c-872f3d0f814d",
   "metadata": {},
   "source": [
    "# Get URLs"
   ]
  },
  {
   "cell_type": "code",
   "execution_count": 8,
   "id": "01962eea-7406-4983-a365-687917527c4a",
   "metadata": {},
   "outputs": [],
   "source": [
    "url_dir = 'https://www.ncei.noaa.gov/data/land-surface-reflectance/access/1985/'\n",
    "res = requests.get(url_dir)"
   ]
  },
  {
   "cell_type": "code",
   "execution_count": 3,
   "id": "de3b5c7e-ce3b-47f1-a53a-33b77952a421",
   "metadata": {},
   "outputs": [
    {
     "data": {
      "text/plain": [
       "<Response [200]>"
      ]
     },
     "execution_count": 3,
     "metadata": {},
     "output_type": "execute_result"
    }
   ],
   "source": [
    "res"
   ]
  },
  {
   "cell_type": "code",
   "execution_count": 4,
   "id": "a3c041bd-fb08-4efa-a88f-b92183188c6f",
   "metadata": {},
   "outputs": [],
   "source": [
    "parse1 = bs(res.text)"
   ]
  },
  {
   "cell_type": "code",
   "execution_count": 5,
   "id": "56666332-75c8-4a65-9f30-b3ee8ef17b32",
   "metadata": {},
   "outputs": [],
   "source": [
    "parse_a = parse1.findAll('a')"
   ]
  },
  {
   "cell_type": "code",
   "execution_count": 6,
   "id": "b52ef829-dafa-4613-9c3e-5bc16d654dc9",
   "metadata": {},
   "outputs": [],
   "source": [
    "url_list = []\n",
    "for link_wrap in  parse_a:\n",
    "    if 'AVHRR-Land' in link_wrap.contents[0]:\n",
    "        url_list.append(link_wrap.contents[0])"
   ]
  },
  {
   "cell_type": "code",
   "execution_count": 7,
   "id": "a3db3691-e987-4586-8508-d0a07e45f6ca",
   "metadata": {},
   "outputs": [
    {
     "data": {
      "text/plain": [
       "['AVHRR-Land_v005_AVH09C1_NOAA-07_19850101_c20170611150951.nc',\n",
       " 'AVHRR-Land_v005_AVH09C1_NOAA-07_19850102_c20170611152524.nc',\n",
       " 'AVHRR-Land_v005_AVH09C1_NOAA-07_19850103_c20170611153747.nc',\n",
       " 'AVHRR-Land_v005_AVH09C1_NOAA-07_19850104_c20170611155225.nc',\n",
       " 'AVHRR-Land_v005_AVH09C1_NOAA-07_19850105_c20170611160658.nc']"
      ]
     },
     "execution_count": 7,
     "metadata": {},
     "output_type": "execute_result"
    }
   ],
   "source": [
    "url_list[:5]"
   ]
  },
  {
   "cell_type": "markdown",
   "id": "2ded17d5-3b26-4faa-8fee-c96a179dcb16",
   "metadata": {},
   "source": [
    "# Download"
   ]
  },
  {
   "cell_type": "code",
   "execution_count": 10,
   "id": "6302f4b5-70c7-47bc-a7a7-30e6bccf5a8b",
   "metadata": {},
   "outputs": [],
   "source": [
    "buffer = requests.get(os.path.join(url_dir, url_list[3]))\n",
    "outpath = 'D:/download/AVHRR-Land_19850104.nc'\n",
    "with open(outpath , 'wb') as fp:\n",
    "    fp.write(buffer.content)"
   ]
  },
  {
   "cell_type": "code",
   "execution_count": 14,
   "id": "78ea0eb7-7570-4718-bf66-1db514e0b2d1",
   "metadata": {},
   "outputs": [
    {
     "data": {
      "text/plain": [
       "{'Date': 'Sun, 28 Aug 2022 03:28:36 GMT', 'Server': 'Apache', 'Strict-Transport-Security': 'max-age=31536000', 'Last-Modified': 'Fri, 28 Jun 2019 13:36:15 GMT', 'ETag': '\"66bbb90-58c625cca51c0\"', 'Accept-Ranges': 'bytes', 'Content-Length': '107723664', 'Content-Type': 'application/x-netcdf', 'Access-Control-Allow-Origin': '*', 'Access-Control-Allow-Headers': 'X-Requested-With, Content-Type', 'Connection': 'close'}"
      ]
     },
     "execution_count": 14,
     "metadata": {},
     "output_type": "execute_result"
    }
   ],
   "source": [
    "buffer.headers"
   ]
  },
  {
   "cell_type": "markdown",
   "id": "ba1e54bc-cd85-4c03-828b-c6fe8a80c35b",
   "metadata": {},
   "source": [
    "# Download with progress"
   ]
  },
  {
   "cell_type": "code",
   "execution_count": 15,
   "id": "e3c95db0-4c97-48a0-85a4-a93d34c3167c",
   "metadata": {},
   "outputs": [],
   "source": [
    "def check_file_status(filepath, filesize):\n",
    "    sys.stdout.write('\\r')\n",
    "    sys.stdout.flush()\n",
    "    size = int(os.stat(filepath).st_size)\n",
    "    percent_complete = (size/filesize)*100\n",
    "    sys.stdout.write('%.3f %s' % (percent_complete, '% Completed'))\n",
    "    sys.stdout.flush()"
   ]
  },
  {
   "cell_type": "code",
   "execution_count": 17,
   "id": "aabc149c-e158-4a58-9b5e-96d3b3c3f3be",
   "metadata": {},
   "outputs": [
    {
     "name": "stdout",
     "output_type": "stream",
     "text": [
      "100.000 % Completed"
     ]
    }
   ],
   "source": [
    "req = requests.get(os.path.join(url_dir, url_list[4]), allow_redirects=True, stream=True)\n",
    "filesize = int(req.headers['Content-Length'])\n",
    "outpath = 'D:/download/AVHRR-Land_19850105.nc'\n",
    "\n",
    "with open(outpath, 'wb') as outfile:\n",
    "    chunk_size=1048576\n",
    "    for chunk in req.iter_content(chunk_size=chunk_size):\n",
    "        outfile.write(chunk)\n",
    "        if chunk_size < filesize:\n",
    "            check_file_status(outpath, filesize)\n",
    "check_file_status(outpath, filesize)"
   ]
  },
  {
   "cell_type": "code",
   "execution_count": null,
   "id": "d37b9d79-a999-4ef8-9d48-30b74745bc30",
   "metadata": {},
   "outputs": [],
   "source": []
  }
 ],
 "metadata": {
  "kernelspec": {
   "display_name": "Python 3 (ipykernel)",
   "language": "python",
   "name": "python3"
  },
  "language_info": {
   "codemirror_mode": {
    "name": "ipython",
    "version": 3
   },
   "file_extension": ".py",
   "mimetype": "text/x-python",
   "name": "python",
   "nbconvert_exporter": "python",
   "pygments_lexer": "ipython3",
   "version": "3.10.4"
  }
 },
 "nbformat": 4,
 "nbformat_minor": 5
}
